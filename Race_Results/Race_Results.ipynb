{
 "cells": [
  {
   "cell_type": "markdown",
   "metadata": {
    "application/vnd.databricks.v1+cell": {
     "cellMetadata": {
      "byteLimit": 2048000,
      "rowLimit": 10000
     },
     "inputWidgets": {},
     "nuid": "7bc6c21b-2a97-4a05-8f2f-28b540959e12",
     "showTitle": false,
     "tableResultSettingsMap": {},
     "title": ""
    }
   },
   "source": [
    "###Race Result Dataframe Creation"
   ]
  },
  {
   "cell_type": "markdown",
   "metadata": {
    "application/vnd.databricks.v1+cell": {
     "cellMetadata": {
      "byteLimit": 2048000,
      "rowLimit": 10000
     },
     "inputWidgets": {},
     "nuid": "9506dc73-c951-4a35-bbf3-5e3f3d249232",
     "showTitle": false,
     "tableResultSettingsMap": {},
     "title": ""
    }
   },
   "source": [
    "0. Import configuration"
   ]
  },
  {
   "cell_type": "code",
   "execution_count": 0,
   "metadata": {
    "application/vnd.databricks.v1+cell": {
     "cellMetadata": {
      "byteLimit": 2048000,
      "rowLimit": 10000
     },
     "inputWidgets": {},
     "nuid": "259655a6-d5f2-4372-874b-70e2bbf549a1",
     "showTitle": false,
     "tableResultSettingsMap": {},
     "title": ""
    }
   },
   "outputs": [],
   "source": [
    "%run ../Includes/Configuration"
   ]
  },
  {
   "cell_type": "markdown",
   "metadata": {
    "application/vnd.databricks.v1+cell": {
     "cellMetadata": {},
     "inputWidgets": {},
     "nuid": "d5ad1ef7-e0f9-4e63-8e14-1e4770315af4",
     "showTitle": false,
     "tableResultSettingsMap": {},
     "title": ""
    }
   },
   "source": [
    "1. Imports"
   ]
  },
  {
   "cell_type": "code",
   "execution_count": 0,
   "metadata": {
    "application/vnd.databricks.v1+cell": {
     "cellMetadata": {},
     "inputWidgets": {},
     "nuid": "309ba568-1792-4dc9-aa0d-05c24d4c2ffb",
     "showTitle": false,
     "tableResultSettingsMap": {},
     "title": ""
    }
   },
   "outputs": [],
   "source": [
    "gold_container_path"
   ]
  },
  {
   "cell_type": "code",
   "execution_count": 0,
   "metadata": {
    "application/vnd.databricks.v1+cell": {
     "cellMetadata": {
      "byteLimit": 2048000,
      "rowLimit": 10000
     },
     "inputWidgets": {},
     "nuid": "0eaac7ef-0959-448b-abb2-aed53ea8c81f",
     "showTitle": false,
     "tableResultSettingsMap": {},
     "title": ""
    }
   },
   "outputs": [],
   "source": [
    "from pyspark.sql.functions import current_timestamp, desc, col, max"
   ]
  },
  {
   "cell_type": "markdown",
   "metadata": {
    "application/vnd.databricks.v1+cell": {
     "cellMetadata": {},
     "inputWidgets": {},
     "nuid": "b9b7c0f1-9f2b-45c5-9b4b-16b6c3e352fe",
     "showTitle": false,
     "tableResultSettingsMap": {},
     "title": ""
    }
   },
   "source": [
    "2. Read appropriate Datasources\n",
    "- Datasources\n",
    "  - Circuits Data\n",
    "  - Races Data\n",
    "  - PitStops Data\n",
    "  - Drivers Data\n",
    "  - Constructors Data\n",
    "  - Results Data"
   ]
  },
  {
   "cell_type": "code",
   "execution_count": 0,
   "metadata": {
    "application/vnd.databricks.v1+cell": {
     "cellMetadata": {
      "byteLimit": 2048000,
      "rowLimit": 10000
     },
     "inputWidgets": {},
     "nuid": "b757c765-e538-4bc3-8201-d05791503ec7",
     "showTitle": false,
     "tableResultSettingsMap": {},
     "title": ""
    }
   },
   "outputs": [],
   "source": [
    "# Circuits Data\n",
    "\n",
    "circuits_df = spark.read.parquet(f'{silver_container_path}/circuits') \\\n",
    "    .select('circuit_id', 'name', 'location') \\\n",
    "    .withColumnRenamed('location', 'circuit_location') \\\n",
    "    .withColumnRenamed('name', 'circuit_name')"
   ]
  },
  {
   "cell_type": "code",
   "execution_count": 0,
   "metadata": {
    "application/vnd.databricks.v1+cell": {
     "cellMetadata": {
      "byteLimit": 2048000,
      "rowLimit": 10000
     },
     "inputWidgets": {},
     "nuid": "4247f20a-765b-4dd3-870f-9077e2b4ba49",
     "showTitle": false,
     "tableResultSettingsMap": {},
     "title": ""
    }
   },
   "outputs": [],
   "source": [
    "# Races Data\n",
    "\n",
    "races_df = spark.read.parquet(f'{silver_container_path}/races') \\\n",
    "    .select('race_id', 'circuit_id','race_year', 'name', 'race_timestamp') \\\n",
    "    .withColumnRenamed('race_timestamp', 'race_date') \\\n",
    "    .withColumnRenamed('name', 'race_name')"
   ]
  },
  {
   "cell_type": "code",
   "execution_count": 0,
   "metadata": {
    "application/vnd.databricks.v1+cell": {
     "cellMetadata": {
      "byteLimit": 2048000,
      "rowLimit": 10000
     },
     "inputWidgets": {},
     "nuid": "23f4c6e9-c269-479a-832e-dc7a46cb32d5",
     "showTitle": false,
     "tableResultSettingsMap": {},
     "title": ""
    }
   },
   "outputs": [],
   "source": [
    "# PitStops Data\n",
    "\n",
    "pitstop_df = spark.read.parquet(f'{silver_container_path}/pitstops') \\\n",
    "    .select('race_id', 'driver_id', 'stop') \\\n",
    "    .withColumnRenamed('stop', 'pits')"
   ]
  },
  {
   "cell_type": "code",
   "execution_count": 0,
   "metadata": {
    "application/vnd.databricks.v1+cell": {
     "cellMetadata": {
      "byteLimit": 2048000,
      "rowLimit": 10000
     },
     "inputWidgets": {},
     "nuid": "2833dc92-2e24-4ec5-a740-f8f80a4ce42c",
     "showTitle": false,
     "tableResultSettingsMap": {},
     "title": ""
    }
   },
   "outputs": [],
   "source": [
    "# Drivers Data\n",
    "\n",
    "drivers_df = spark.read.parquet(f'{silver_container_path}/drivers') \\\n",
    "    .select('driver_id', 'number', 'name', 'nationality') \\\n",
    "    .withColumnRenamed('name', 'driver_name') \\\n",
    "    .withColumnRenamed('nationality', 'driver_nationality') \\\n",
    "    .withColumnRenamed('number', 'driver_number')"
   ]
  },
  {
   "cell_type": "code",
   "execution_count": 0,
   "metadata": {
    "application/vnd.databricks.v1+cell": {
     "cellMetadata": {
      "byteLimit": 2048000,
      "rowLimit": 10000
     },
     "inputWidgets": {},
     "nuid": "a76ea0d4-7e1f-43ae-9bec-b9809abcf278",
     "showTitle": false,
     "tableResultSettingsMap": {},
     "title": ""
    }
   },
   "outputs": [],
   "source": [
    "# Constructors Data\n",
    "\n",
    "constructor_df = spark.read.parquet(f'{silver_container_path}/constructors') \\\n",
    "    .select('constructor_id', 'name') \\\n",
    "    .withColumnRenamed('name', 'team')"
   ]
  },
  {
   "cell_type": "code",
   "execution_count": 0,
   "metadata": {
    "application/vnd.databricks.v1+cell": {
     "cellMetadata": {
      "byteLimit": 2048000,
      "rowLimit": 10000
     },
     "inputWidgets": {},
     "nuid": "9fd598d9-8d1d-4be3-9143-0d77e9f2d780",
     "showTitle": false,
     "tableResultSettingsMap": {},
     "title": ""
    }
   },
   "outputs": [],
   "source": [
    "# Results Data\n",
    "\n",
    "results_df = spark.read.parquet(f'{silver_container_path}/results') \\\n",
    "    .select('result_id', 'race_id','driver_id', 'constructor_id', 'grid', 'fastest_lap_time', 'time', 'points') \\\n",
    "    .withColumnRenamed('time', 'race_time') \\\n",
    "    .withColumnRenamed('fastest_lap_time', 'fastest_lap')"
   ]
  },
  {
   "cell_type": "markdown",
   "metadata": {
    "application/vnd.databricks.v1+cell": {
     "cellMetadata": {},
     "inputWidgets": {},
     "nuid": "ae631f14-c64c-48f8-a038-ed3e76355d17",
     "showTitle": false,
     "tableResultSettingsMap": {},
     "title": ""
    }
   },
   "source": [
    "3. Join the Dataframes to get the desired result"
   ]
  },
  {
   "cell_type": "code",
   "execution_count": 0,
   "metadata": {
    "application/vnd.databricks.v1+cell": {
     "cellMetadata": {
      "byteLimit": 2048000,
      "rowLimit": 10000
     },
     "inputWidgets": {},
     "nuid": "ab47b3f1-4a97-4412-9cdb-d1459736ba7e",
     "showTitle": false,
     "tableResultSettingsMap": {},
     "title": ""
    }
   },
   "outputs": [],
   "source": [
    "# Join Circuits and Races DataFrame\n",
    "\n",
    "race_circuits_df = races_df.join(circuits_df, races_df.circuit_id == circuits_df.circuit_id, 'inner') \\\n",
    "    .select('race_id', 'race_year', 'race_name', 'race_date', 'circuit_name','circuit_location')"
   ]
  },
  {
   "cell_type": "code",
   "execution_count": 0,
   "metadata": {
    "application/vnd.databricks.v1+cell": {
     "cellMetadata": {
      "byteLimit": 2048000,
      "rowLimit": 10000
     },
     "inputWidgets": {},
     "nuid": "c3a76eb0-d1ee-4ab9-a14f-8395416a769b",
     "showTitle": false,
     "tableResultSettingsMap": {},
     "title": ""
    }
   },
   "outputs": [],
   "source": [
    "# Join Drivers, race_circuits and Pits\n",
    "driver_race_circuits_pits_df = pitstop_df.join(race_circuits_df, race_circuits_df.race_id == pitstop_df.race_id, 'inner') \\\n",
    "    .join(drivers_df, pitstop_df.driver_id == drivers_df.driver_id, 'inner') \\\n",
    "    .groupBy(race_circuits_df.race_id, drivers_df.driver_id, race_circuits_df.race_year, race_circuits_df.race_name, race_circuits_df.race_date, race_circuits_df.circuit_name, race_circuits_df.circuit_location, drivers_df.driver_name, drivers_df.driver_number, drivers_df.driver_nationality) \\\n",
    "    .agg(max('pits').alias('pits'))"
   ]
  },
  {
   "cell_type": "code",
   "execution_count": 0,
   "metadata": {
    "application/vnd.databricks.v1+cell": {
     "cellMetadata": {
      "byteLimit": 2048000,
      "rowLimit": 10000
     },
     "inputWidgets": {},
     "nuid": "8de68d9f-3b4c-4516-b72a-9b6397220563",
     "showTitle": false,
     "tableResultSettingsMap": {},
     "title": ""
    }
   },
   "outputs": [],
   "source": [
    "# Join Results with race_circuits, drivers and constructors DataFrame\n",
    "\n",
    "race_results_df = results_df.join(driver_race_circuits_pits_df, [results_df.race_id == driver_race_circuits_pits_df.race_id, results_df.driver_id == driver_race_circuits_pits_df.driver_id], 'inner') \\\n",
    "    .join(constructor_df, results_df.constructor_id == constructor_df.constructor_id, 'inner') \\\n",
    "    .select('race_year', 'race_name', 'race_date', 'circuit_name','circuit_location', 'driver_name', 'driver_number', 'driver_nationality', 'team', 'grid', 'pits','fastest_lap', 'race_time', 'points') \\\n",
    "    .withColumn('created_date', current_timestamp())"
   ]
  },
  {
   "cell_type": "markdown",
   "metadata": {
    "application/vnd.databricks.v1+cell": {
     "cellMetadata": {},
     "inputWidgets": {},
     "nuid": "d6883788-83e1-4247-b6bb-ff2c2196beef",
     "showTitle": false,
     "tableResultSettingsMap": {},
     "title": ""
    }
   },
   "source": [
    "4. Write to Gold container"
   ]
  },
  {
   "cell_type": "code",
   "execution_count": 0,
   "metadata": {
    "application/vnd.databricks.v1+cell": {
     "cellMetadata": {
      "byteLimit": 2048000,
      "rowLimit": 10000
     },
     "inputWidgets": {},
     "nuid": "78bd6f63-e73c-45df-8574-ee517da45014",
     "showTitle": false,
     "tableResultSettingsMap": {},
     "title": ""
    }
   },
   "outputs": [],
   "source": [
    "race_results_df.write.mode('overwrite').parquet(f'{gold_container_path}/race_results')"
   ]
  }
 ],
 "metadata": {
  "application/vnd.databricks.v1+notebook": {
   "computePreferences": null,
   "dashboards": [],
   "environmentMetadata": {
    "base_environment": "",
    "environment_version": "2"
   },
   "inputWidgetPreferences": null,
   "language": "python",
   "notebookMetadata": {
    "pythonIndentUnit": 4
   },
   "notebookName": "Race_Results",
   "widgets": {}
  },
  "language_info": {
   "name": "python"
  }
 },
 "nbformat": 4,
 "nbformat_minor": 0
}
