{
 "cells": [
  {
   "cell_type": "markdown",
   "metadata": {
    "application/vnd.databricks.v1+cell": {
     "cellMetadata": {},
     "inputWidgets": {},
     "nuid": "10015722-c178-42e1-ae7d-f4a35a58b117",
     "showTitle": false,
     "tableResultSettingsMap": {},
     "title": ""
    }
   },
   "source": [
    "###Ingest Results data from bronze to silver"
   ]
  },
  {
   "cell_type": "markdown",
   "metadata": {
    "application/vnd.databricks.v1+cell": {
     "cellMetadata": {},
     "inputWidgets": {},
     "nuid": "4ad7236d-11bf-413e-a01d-551103b9401a",
     "showTitle": false,
     "tableResultSettingsMap": {},
     "title": ""
    }
   },
   "source": [
    "0. Import configuration notebook and widgets"
   ]
  },
  {
   "cell_type": "code",
   "execution_count": 0,
   "metadata": {
    "application/vnd.databricks.v1+cell": {
     "cellMetadata": {},
     "inputWidgets": {},
     "nuid": "e05508cb-05a6-42db-8ab3-c0005ed35c8f",
     "showTitle": false,
     "tableResultSettingsMap": {},
     "title": ""
    }
   },
   "outputs": [],
   "source": [
    "%run ../Includes/Configuration"
   ]
  },
  {
   "cell_type": "code",
   "execution_count": 0,
   "metadata": {
    "application/vnd.databricks.v1+cell": {
     "cellMetadata": {},
     "inputWidgets": {},
     "nuid": "2b5abf82-c4df-47f2-8057-b37f72a9d024",
     "showTitle": false,
     "tableResultSettingsMap": {},
     "title": ""
    }
   },
   "outputs": [],
   "source": [
    "dbutils.widgets.text('p_data_source', '', 'Data Source')\n",
    "v_data_source = dbutils.widgets.get('p_data_source')"
   ]
  },
  {
   "cell_type": "markdown",
   "metadata": {
    "application/vnd.databricks.v1+cell": {
     "cellMetadata": {},
     "inputWidgets": {},
     "nuid": "de066b94-6c39-4397-9125-cc5545ec3e1d",
     "showTitle": false,
     "tableResultSettingsMap": {},
     "title": ""
    }
   },
   "source": [
    "1. Imports"
   ]
  },
  {
   "cell_type": "code",
   "execution_count": 0,
   "metadata": {
    "application/vnd.databricks.v1+cell": {
     "cellMetadata": {
      "byteLimit": 2048000,
      "rowLimit": 10000
     },
     "inputWidgets": {},
     "nuid": "e166d686-acda-4b2b-81ce-26f097a448a3",
     "showTitle": false,
     "tableResultSettingsMap": {},
     "title": ""
    }
   },
   "outputs": [],
   "source": [
    "from pyspark.sql.types import StructType, StructField, IntegerType, StringType, FloatType\n",
    "from pyspark.sql.functions import col, current_timestamp, lit"
   ]
  },
  {
   "cell_type": "markdown",
   "metadata": {
    "application/vnd.databricks.v1+cell": {
     "cellMetadata": {},
     "inputWidgets": {},
     "nuid": "482efabd-6384-4743-8869-24e5b587c76c",
     "showTitle": false,
     "tableResultSettingsMap": {},
     "title": ""
    }
   },
   "source": [
    "2. Create schema"
   ]
  },
  {
   "cell_type": "code",
   "execution_count": 0,
   "metadata": {
    "application/vnd.databricks.v1+cell": {
     "cellMetadata": {
      "byteLimit": 2048000,
      "rowLimit": 10000
     },
     "inputWidgets": {},
     "nuid": "6967a106-4869-465c-8ca5-0f8d51a7d323",
     "showTitle": false,
     "tableResultSettingsMap": {},
     "title": ""
    }
   },
   "outputs": [],
   "source": [
    "results_schema = StructType(\n",
    "    fields=[\n",
    "        StructField(\"resultId\", IntegerType(), False),\n",
    "        StructField(\"raceId\", IntegerType(), False),\n",
    "        StructField(\"driverId\", IntegerType(), False),\n",
    "        StructField(\"constructorId\", IntegerType(), False),\n",
    "        StructField(\"number\", IntegerType(), True),\n",
    "        StructField(\"grid\", IntegerType(), False),\n",
    "        StructField(\"position\", IntegerType(), True),\n",
    "        StructField(\"positionText\", StringType(), False),\n",
    "        StructField(\"positionOrder\", IntegerType(), False),\n",
    "        StructField('points', FloatType(), False),\n",
    "        StructField(\"laps\", IntegerType(), False),\n",
    "        StructField(\"time\", StringType(), True),\n",
    "        StructField(\"milliseconds\", IntegerType(), True),\n",
    "        StructField(\"fastestLap\", IntegerType(), True),\n",
    "        StructField(\"rank\", IntegerType(), True),\n",
    "        StructField(\"fastestLapTime\", StringType(), True),\n",
    "        StructField(\"fastestLapSpeed\", StringType(), True),\n",
    "        StructField(\"statusId\", IntegerType(), False)\n",
    "    ]\n",
    ")"
   ]
  },
  {
   "cell_type": "markdown",
   "metadata": {
    "application/vnd.databricks.v1+cell": {
     "cellMetadata": {},
     "inputWidgets": {},
     "nuid": "655ef995-6206-4dd3-8296-b3666e589e8d",
     "showTitle": false,
     "tableResultSettingsMap": {},
     "title": ""
    }
   },
   "source": [
    "3. Read results.json file"
   ]
  },
  {
   "cell_type": "code",
   "execution_count": 0,
   "metadata": {
    "application/vnd.databricks.v1+cell": {
     "cellMetadata": {
      "byteLimit": 2048000,
      "rowLimit": 10000
     },
     "inputWidgets": {},
     "nuid": "a4511e48-1f22-4d12-830a-3a28b929a1f9",
     "showTitle": false,
     "tableResultSettingsMap": {},
     "title": ""
    }
   },
   "outputs": [],
   "source": [
    "results_raw_df = spark.read \\\n",
    "    .format(\"json\") \\\n",
    "    .schema(results_schema) \\\n",
    "    .load(f\"{bronze_container_path}/results.json\")"
   ]
  },
  {
   "cell_type": "markdown",
   "metadata": {
    "application/vnd.databricks.v1+cell": {
     "cellMetadata": {},
     "inputWidgets": {},
     "nuid": "98a8b80f-9d4d-4b09-bcac-c89f77944088",
     "showTitle": false,
     "tableResultSettingsMap": {},
     "title": ""
    }
   },
   "source": [
    "4. Transform the circuit dataframe"
   ]
  },
  {
   "cell_type": "code",
   "execution_count": 0,
   "metadata": {
    "application/vnd.databricks.v1+cell": {
     "cellMetadata": {
      "byteLimit": 2048000,
      "rowLimit": 10000
     },
     "inputWidgets": {},
     "nuid": "598a7dc5-3268-4dfb-959e-89987d21d464",
     "showTitle": false,
     "tableResultSettingsMap": {},
     "title": ""
    }
   },
   "outputs": [],
   "source": [
    "results_df = results_raw_df \\\n",
    "        .select(\n",
    "                col(\"resultId\").alias(\"result_id\"),\n",
    "                col(\"raceId\").alias(\"race_id\"),\n",
    "                col(\"driverId\").alias(\"driver_id\"),\n",
    "                col(\"constructorId\").alias(\"constructor_id\"),\n",
    "                col(\"number\"),\n",
    "                col(\"grid\"),\n",
    "                col(\"position\"),\n",
    "                col(\"positionText\").alias('position_text'),\n",
    "                col(\"positionOrder\").alias('position_order'),\n",
    "                col(\"points\"),\n",
    "                col(\"laps\"),\n",
    "                col(\"time\"),\n",
    "                col(\"milliseconds\"),\n",
    "                col(\"fastestLap\").alias('fastest_lap'),\n",
    "                col(\"rank\"),\n",
    "                col(\"fastestLapTime\").alias('fastest_lap_time'),\n",
    "                col(\"fastestLapSpeed\").alias('fastest_lap_speed'),\n",
    "                current_timestamp().alias('ingestion_date')\n",
    "        ) \\\n",
    "        .withColumn(\"data_source\", lit(v_data_source))"
   ]
  },
  {
   "cell_type": "markdown",
   "metadata": {
    "application/vnd.databricks.v1+cell": {
     "cellMetadata": {},
     "inputWidgets": {},
     "nuid": "59d095a8-a3c8-4910-ab89-b43dd678369b",
     "showTitle": false,
     "tableResultSettingsMap": {},
     "title": ""
    }
   },
   "source": [
    "5. Write the dataframe to silver layer"
   ]
  },
  {
   "cell_type": "code",
   "execution_count": 0,
   "metadata": {
    "application/vnd.databricks.v1+cell": {
     "cellMetadata": {
      "byteLimit": 2048000,
      "rowLimit": 10000
     },
     "inputWidgets": {},
     "nuid": "cca4ed05-ec6f-4ab4-9795-0dc17ac8a7b2",
     "showTitle": false,
     "tableResultSettingsMap": {},
     "title": ""
    }
   },
   "outputs": [],
   "source": [
    "results_df.write.mode('overwrite').partitionBy('race_id').parquet(f\"{silver_container_path}/results\")"
   ]
  }
 ],
 "metadata": {
  "application/vnd.databricks.v1+notebook": {
   "computePreferences": null,
   "dashboards": [],
   "environmentMetadata": {
    "base_environment": "",
    "environment_version": "2"
   },
   "inputWidgetPreferences": null,
   "language": "python",
   "notebookMetadata": {
    "pythonIndentUnit": 4
   },
   "notebookName": "5. Ingest Results Data",
   "widgets": {}
  },
  "language_info": {
   "name": "python"
  }
 },
 "nbformat": 4,
 "nbformat_minor": 0
}
